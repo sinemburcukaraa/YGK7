{
 "cells": [
  {
   "cell_type": "code",
   "execution_count": 1,
   "id": "ba82961d-a976-4caf-ba26-9def41983d56",
   "metadata": {},
   "outputs": [],
   "source": [
    "import pandas as pd"
   ]
  },
  {
   "cell_type": "code",
   "execution_count": 17,
   "id": "23a3d239-4922-4496-a1c2-2a24a25ca22a",
   "metadata": {},
   "outputs": [],
   "source": [
    "sozluk = {\n",
    "    \"Kategori\": [\"Giyim\", \"Giyim\", \"Ayakkabı\", \"Aksesuar\", \"Ayakkabı\", \"Giyim\", \"Aksesuar\", \"Aksesuar\", \"Ayakkabı\", \"Giyim\"],\n",
    "    \"Ürün\": [\"Kazak\", \"T-shirt\", \"Sandalet\", \"Küpe\", \"Spor Ayakkabı\", \"Pantolon\", \"Kolye\", \"Yüzük\", \"Çizme\", \"Ceket\"],\n",
    "    \"Fiyat\": [300, 180, 450, 50, 700, 400, 150, 80, 850, 900]\n",
    "}"
   ]
  },
  {
   "cell_type": "code",
   "execution_count": 53,
   "id": "ea62010a-2372-45b3-88e6-306935848d2e",
   "metadata": {},
   "outputs": [
    {
     "data": {
      "text/html": [
       "<div>\n",
       "<style scoped>\n",
       "    .dataframe tbody tr th:only-of-type {\n",
       "        vertical-align: middle;\n",
       "    }\n",
       "\n",
       "    .dataframe tbody tr th {\n",
       "        vertical-align: top;\n",
       "    }\n",
       "\n",
       "    .dataframe thead th {\n",
       "        text-align: right;\n",
       "    }\n",
       "</style>\n",
       "<table border=\"1\" class=\"dataframe\">\n",
       "  <thead>\n",
       "    <tr style=\"text-align: right;\">\n",
       "      <th></th>\n",
       "      <th>Kategori</th>\n",
       "      <th>Ürün</th>\n",
       "      <th>Fiyat</th>\n",
       "    </tr>\n",
       "  </thead>\n",
       "  <tbody>\n",
       "    <tr>\n",
       "      <th>0</th>\n",
       "      <td>Giyim</td>\n",
       "      <td>Kazak</td>\n",
       "      <td>300</td>\n",
       "    </tr>\n",
       "    <tr>\n",
       "      <th>1</th>\n",
       "      <td>Giyim</td>\n",
       "      <td>T-shirt</td>\n",
       "      <td>180</td>\n",
       "    </tr>\n",
       "    <tr>\n",
       "      <th>2</th>\n",
       "      <td>Ayakkabı</td>\n",
       "      <td>Sandalet</td>\n",
       "      <td>450</td>\n",
       "    </tr>\n",
       "    <tr>\n",
       "      <th>3</th>\n",
       "      <td>Aksesuar</td>\n",
       "      <td>Küpe</td>\n",
       "      <td>50</td>\n",
       "    </tr>\n",
       "    <tr>\n",
       "      <th>4</th>\n",
       "      <td>Ayakkabı</td>\n",
       "      <td>Spor Ayakkabı</td>\n",
       "      <td>700</td>\n",
       "    </tr>\n",
       "    <tr>\n",
       "      <th>5</th>\n",
       "      <td>Giyim</td>\n",
       "      <td>Pantolon</td>\n",
       "      <td>400</td>\n",
       "    </tr>\n",
       "    <tr>\n",
       "      <th>6</th>\n",
       "      <td>Aksesuar</td>\n",
       "      <td>Kolye</td>\n",
       "      <td>150</td>\n",
       "    </tr>\n",
       "    <tr>\n",
       "      <th>7</th>\n",
       "      <td>Aksesuar</td>\n",
       "      <td>Yüzük</td>\n",
       "      <td>80</td>\n",
       "    </tr>\n",
       "    <tr>\n",
       "      <th>8</th>\n",
       "      <td>Ayakkabı</td>\n",
       "      <td>Çizme</td>\n",
       "      <td>850</td>\n",
       "    </tr>\n",
       "    <tr>\n",
       "      <th>9</th>\n",
       "      <td>Giyim</td>\n",
       "      <td>Ceket</td>\n",
       "      <td>900</td>\n",
       "    </tr>\n",
       "  </tbody>\n",
       "</table>\n",
       "</div>"
      ],
      "text/plain": [
       "   Kategori           Ürün  Fiyat\n",
       "0     Giyim          Kazak    300\n",
       "1     Giyim        T-shirt    180\n",
       "2  Ayakkabı       Sandalet    450\n",
       "3  Aksesuar           Küpe     50\n",
       "4  Ayakkabı  Spor Ayakkabı    700\n",
       "5     Giyim       Pantolon    400\n",
       "6  Aksesuar          Kolye    150\n",
       "7  Aksesuar          Yüzük     80\n",
       "8  Ayakkabı          Çizme    850\n",
       "9     Giyim          Ceket    900"
      ]
     },
     "execution_count": 53,
     "metadata": {},
     "output_type": "execute_result"
    }
   ],
   "source": [
    "df = pd.DataFrame(sozluk)\n",
    "df"
   ]
  },
  {
   "cell_type": "code",
   "execution_count": 55,
   "id": "bbce80a0-c412-413c-a8f2-2f35d9b30c0c",
   "metadata": {},
   "outputs": [
    {
     "data": {
      "text/plain": [
       "'Ayakkabı'"
      ]
     },
     "execution_count": 55,
     "metadata": {},
     "output_type": "execute_result"
    }
   ],
   "source": [
    "kategori_2 = df.loc[2, \"Kategori\"]\n",
    "kategori_2"
   ]
  },
  {
   "cell_type": "code",
   "execution_count": 57,
   "id": "66898c82-38b0-42f7-87ff-580da99bd2a6",
   "metadata": {},
   "outputs": [
    {
     "data": {
      "text/plain": [
       "'Sandalet'"
      ]
     },
     "execution_count": 57,
     "metadata": {},
     "output_type": "execute_result"
    }
   ],
   "source": [
    "urun_2 = df.loc[2, \"Ürün\"]\n",
    "urun_2"
   ]
  },
  {
   "cell_type": "code",
   "execution_count": 59,
   "id": "53bbd9a3-ed12-43a7-8eb0-1b919872ead5",
   "metadata": {},
   "outputs": [
    {
     "data": {
      "text/html": [
       "<div>\n",
       "<style scoped>\n",
       "    .dataframe tbody tr th:only-of-type {\n",
       "        vertical-align: middle;\n",
       "    }\n",
       "\n",
       "    .dataframe tbody tr th {\n",
       "        vertical-align: top;\n",
       "    }\n",
       "\n",
       "    .dataframe thead th {\n",
       "        text-align: right;\n",
       "    }\n",
       "</style>\n",
       "<table border=\"1\" class=\"dataframe\">\n",
       "  <thead>\n",
       "    <tr style=\"text-align: right;\">\n",
       "      <th></th>\n",
       "      <th>Kategori</th>\n",
       "      <th>Ürün</th>\n",
       "      <th>Fiyat</th>\n",
       "    </tr>\n",
       "  </thead>\n",
       "  <tbody>\n",
       "    <tr>\n",
       "      <th>4</th>\n",
       "      <td>Ayakkabı</td>\n",
       "      <td>Spor Ayakkabı</td>\n",
       "      <td>700</td>\n",
       "    </tr>\n",
       "    <tr>\n",
       "      <th>5</th>\n",
       "      <td>Giyim</td>\n",
       "      <td>Pantolon</td>\n",
       "      <td>400</td>\n",
       "    </tr>\n",
       "    <tr>\n",
       "      <th>6</th>\n",
       "      <td>Aksesuar</td>\n",
       "      <td>Kolye</td>\n",
       "      <td>150</td>\n",
       "    </tr>\n",
       "    <tr>\n",
       "      <th>7</th>\n",
       "      <td>Aksesuar</td>\n",
       "      <td>Yüzük</td>\n",
       "      <td>80</td>\n",
       "    </tr>\n",
       "    <tr>\n",
       "      <th>8</th>\n",
       "      <td>Ayakkabı</td>\n",
       "      <td>Çizme</td>\n",
       "      <td>850</td>\n",
       "    </tr>\n",
       "    <tr>\n",
       "      <th>9</th>\n",
       "      <td>Giyim</td>\n",
       "      <td>Ceket</td>\n",
       "      <td>900</td>\n",
       "    </tr>\n",
       "  </tbody>\n",
       "</table>\n",
       "</div>"
      ],
      "text/plain": [
       "   Kategori           Ürün  Fiyat\n",
       "4  Ayakkabı  Spor Ayakkabı    700\n",
       "5     Giyim       Pantolon    400\n",
       "6  Aksesuar          Kolye    150\n",
       "7  Aksesuar          Yüzük     80\n",
       "8  Ayakkabı          Çizme    850\n",
       "9     Giyim          Ceket    900"
      ]
     },
     "execution_count": 59,
     "metadata": {},
     "output_type": "execute_result"
    }
   ],
   "source": [
    "veriler_4_9 = df.loc[4:9]\n",
    "veriler_4_9"
   ]
  },
  {
   "cell_type": "code",
   "execution_count": 61,
   "id": "2f028c1b-896b-4642-a46f-7735e1c516ce",
   "metadata": {},
   "outputs": [
    {
     "data": {
      "text/plain": [
       "1          T-shirt\n",
       "2         Sandalet\n",
       "3             Küpe\n",
       "4    Spor Ayakkabı\n",
       "5         Pantolon\n",
       "6            Kolye\n",
       "Name: Ürün, dtype: object"
      ]
     },
     "execution_count": 61,
     "metadata": {},
     "output_type": "execute_result"
    }
   ],
   "source": [
    "urunler_1_6 = df.loc[1:6, \"Ürün\"]\n",
    "urunler_1_6"
   ]
  },
  {
   "cell_type": "code",
   "execution_count": 63,
   "id": "e5e4cc07-47bb-4706-baeb-705881ae04fb",
   "metadata": {},
   "outputs": [
    {
     "data": {
      "text/html": [
       "<div>\n",
       "<style scoped>\n",
       "    .dataframe tbody tr th:only-of-type {\n",
       "        vertical-align: middle;\n",
       "    }\n",
       "\n",
       "    .dataframe tbody tr th {\n",
       "        vertical-align: top;\n",
       "    }\n",
       "\n",
       "    .dataframe thead th {\n",
       "        text-align: right;\n",
       "    }\n",
       "</style>\n",
       "<table border=\"1\" class=\"dataframe\">\n",
       "  <thead>\n",
       "    <tr style=\"text-align: right;\">\n",
       "      <th></th>\n",
       "      <th>Kategori</th>\n",
       "      <th>Ürün</th>\n",
       "      <th>Fiyat</th>\n",
       "    </tr>\n",
       "  </thead>\n",
       "  <tbody>\n",
       "    <tr>\n",
       "      <th>0</th>\n",
       "      <td>Giyim</td>\n",
       "      <td>Kazak</td>\n",
       "      <td>300</td>\n",
       "    </tr>\n",
       "    <tr>\n",
       "      <th>1</th>\n",
       "      <td>Giyim</td>\n",
       "      <td>T-shirt</td>\n",
       "      <td>180</td>\n",
       "    </tr>\n",
       "    <tr>\n",
       "      <th>5</th>\n",
       "      <td>Giyim</td>\n",
       "      <td>Pantolon</td>\n",
       "      <td>400</td>\n",
       "    </tr>\n",
       "    <tr>\n",
       "      <th>9</th>\n",
       "      <td>Giyim</td>\n",
       "      <td>Ceket</td>\n",
       "      <td>900</td>\n",
       "    </tr>\n",
       "  </tbody>\n",
       "</table>\n",
       "</div>"
      ],
      "text/plain": [
       "  Kategori      Ürün  Fiyat\n",
       "0    Giyim     Kazak    300\n",
       "1    Giyim   T-shirt    180\n",
       "5    Giyim  Pantolon    400\n",
       "9    Giyim     Ceket    900"
      ]
     },
     "execution_count": 63,
     "metadata": {},
     "output_type": "execute_result"
    }
   ],
   "source": [
    "giyim_urunler = df[df[\"Kategori\"] == \"Giyim\"]\n",
    "giyim_urunler"
   ]
  },
  {
   "cell_type": "code",
   "execution_count": 65,
   "id": "516a7d83-7c8b-403b-ad52-36adb00865d6",
   "metadata": {},
   "outputs": [
    {
     "data": {
      "text/html": [
       "<div>\n",
       "<style scoped>\n",
       "    .dataframe tbody tr th:only-of-type {\n",
       "        vertical-align: middle;\n",
       "    }\n",
       "\n",
       "    .dataframe tbody tr th {\n",
       "        vertical-align: top;\n",
       "    }\n",
       "\n",
       "    .dataframe thead th {\n",
       "        text-align: right;\n",
       "    }\n",
       "</style>\n",
       "<table border=\"1\" class=\"dataframe\">\n",
       "  <thead>\n",
       "    <tr style=\"text-align: right;\">\n",
       "      <th></th>\n",
       "      <th>Kategori</th>\n",
       "      <th>Ürün</th>\n",
       "      <th>Fiyat</th>\n",
       "    </tr>\n",
       "  </thead>\n",
       "  <tbody>\n",
       "    <tr>\n",
       "      <th>2</th>\n",
       "      <td>Ayakkabı</td>\n",
       "      <td>Sandalet</td>\n",
       "      <td>450</td>\n",
       "    </tr>\n",
       "    <tr>\n",
       "      <th>4</th>\n",
       "      <td>Ayakkabı</td>\n",
       "      <td>Spor Ayakkabı</td>\n",
       "      <td>700</td>\n",
       "    </tr>\n",
       "    <tr>\n",
       "      <th>8</th>\n",
       "      <td>Ayakkabı</td>\n",
       "      <td>Çizme</td>\n",
       "      <td>850</td>\n",
       "    </tr>\n",
       "  </tbody>\n",
       "</table>\n",
       "</div>"
      ],
      "text/plain": [
       "   Kategori           Ürün  Fiyat\n",
       "2  Ayakkabı       Sandalet    450\n",
       "4  Ayakkabı  Spor Ayakkabı    700\n",
       "8  Ayakkabı          Çizme    850"
      ]
     },
     "execution_count": 65,
     "metadata": {},
     "output_type": "execute_result"
    }
   ],
   "source": [
    "ayakkabi_urunler = df[df[\"Kategori\"] == \"Ayakkabı\"]\n",
    "ayakkabi_urunler"
   ]
  },
  {
   "cell_type": "code",
   "execution_count": 67,
   "id": "94bdb8e1-4b56-4a5e-b285-e2e8dd843ee5",
   "metadata": {},
   "outputs": [
    {
     "data": {
      "text/html": [
       "<div>\n",
       "<style scoped>\n",
       "    .dataframe tbody tr th:only-of-type {\n",
       "        vertical-align: middle;\n",
       "    }\n",
       "\n",
       "    .dataframe tbody tr th {\n",
       "        vertical-align: top;\n",
       "    }\n",
       "\n",
       "    .dataframe thead th {\n",
       "        text-align: right;\n",
       "    }\n",
       "</style>\n",
       "<table border=\"1\" class=\"dataframe\">\n",
       "  <thead>\n",
       "    <tr style=\"text-align: right;\">\n",
       "      <th></th>\n",
       "      <th>Kategori</th>\n",
       "      <th>Ürün</th>\n",
       "      <th>Fiyat</th>\n",
       "    </tr>\n",
       "  </thead>\n",
       "  <tbody>\n",
       "    <tr>\n",
       "      <th>3</th>\n",
       "      <td>Aksesuar</td>\n",
       "      <td>Küpe</td>\n",
       "      <td>50</td>\n",
       "    </tr>\n",
       "    <tr>\n",
       "      <th>6</th>\n",
       "      <td>Aksesuar</td>\n",
       "      <td>Kolye</td>\n",
       "      <td>150</td>\n",
       "    </tr>\n",
       "    <tr>\n",
       "      <th>7</th>\n",
       "      <td>Aksesuar</td>\n",
       "      <td>Yüzük</td>\n",
       "      <td>80</td>\n",
       "    </tr>\n",
       "  </tbody>\n",
       "</table>\n",
       "</div>"
      ],
      "text/plain": [
       "   Kategori   Ürün  Fiyat\n",
       "3  Aksesuar   Küpe     50\n",
       "6  Aksesuar  Kolye    150\n",
       "7  Aksesuar  Yüzük     80"
      ]
     },
     "execution_count": 67,
     "metadata": {},
     "output_type": "execute_result"
    }
   ],
   "source": [
    "aksesuar_urunler = df[df[\"Kategori\"] == \"Aksesuar\"]\n",
    "aksesuar_urunler"
   ]
  },
  {
   "cell_type": "code",
   "execution_count": 71,
   "id": "96fc1fc3-4a41-4dba-b38d-ac3367e7f3c2",
   "metadata": {},
   "outputs": [
    {
     "data": {
      "text/html": [
       "<div>\n",
       "<style scoped>\n",
       "    .dataframe tbody tr th:only-of-type {\n",
       "        vertical-align: middle;\n",
       "    }\n",
       "\n",
       "    .dataframe tbody tr th {\n",
       "        vertical-align: top;\n",
       "    }\n",
       "\n",
       "    .dataframe thead th {\n",
       "        text-align: right;\n",
       "    }\n",
       "</style>\n",
       "<table border=\"1\" class=\"dataframe\">\n",
       "  <thead>\n",
       "    <tr style=\"text-align: right;\">\n",
       "      <th></th>\n",
       "      <th>Kategori</th>\n",
       "      <th>Ürün</th>\n",
       "      <th>Fiyat</th>\n",
       "    </tr>\n",
       "  </thead>\n",
       "  <tbody>\n",
       "    <tr>\n",
       "      <th>5</th>\n",
       "      <td>Giyim</td>\n",
       "      <td>Pantolon</td>\n",
       "      <td>400</td>\n",
       "    </tr>\n",
       "    <tr>\n",
       "      <th>9</th>\n",
       "      <td>Giyim</td>\n",
       "      <td>Ceket</td>\n",
       "      <td>900</td>\n",
       "    </tr>\n",
       "  </tbody>\n",
       "</table>\n",
       "</div>"
      ],
      "text/plain": [
       "  Kategori      Ürün  Fiyat\n",
       "5    Giyim  Pantolon    400\n",
       "9    Giyim     Ceket    900"
      ]
     },
     "execution_count": 71,
     "metadata": {},
     "output_type": "execute_result"
    }
   ],
   "source": [
    "giyim_fiyat_300 = df[(df[\"Kategori\"] == \"Giyim\") & (df[\"Fiyat\"] > 300)]\n",
    "giyim_fiyat_300"
   ]
  },
  {
   "cell_type": "code",
   "execution_count": 73,
   "id": "a7df0e7c-1050-4c89-a487-45a14a38f057",
   "metadata": {},
   "outputs": [
    {
     "data": {
      "text/html": [
       "<div>\n",
       "<style scoped>\n",
       "    .dataframe tbody tr th:only-of-type {\n",
       "        vertical-align: middle;\n",
       "    }\n",
       "\n",
       "    .dataframe tbody tr th {\n",
       "        vertical-align: top;\n",
       "    }\n",
       "\n",
       "    .dataframe thead th {\n",
       "        text-align: right;\n",
       "    }\n",
       "</style>\n",
       "<table border=\"1\" class=\"dataframe\">\n",
       "  <thead>\n",
       "    <tr style=\"text-align: right;\">\n",
       "      <th></th>\n",
       "      <th>Kategori</th>\n",
       "      <th>Ürün</th>\n",
       "      <th>Fiyat</th>\n",
       "    </tr>\n",
       "  </thead>\n",
       "  <tbody>\n",
       "    <tr>\n",
       "      <th>2</th>\n",
       "      <td>Ayakkabı</td>\n",
       "      <td>Sandalet</td>\n",
       "      <td>450</td>\n",
       "    </tr>\n",
       "  </tbody>\n",
       "</table>\n",
       "</div>"
      ],
      "text/plain": [
       "   Kategori      Ürün  Fiyat\n",
       "2  Ayakkabı  Sandalet    450"
      ]
     },
     "execution_count": 73,
     "metadata": {},
     "output_type": "execute_result"
    }
   ],
   "source": [
    "ayakkabi_fiyat_600 = df[(df[\"Kategori\"] == \"Ayakkabı\") & (df[\"Fiyat\"] < 600)]\n",
    "ayakkabi_fiyat_600 "
   ]
  },
  {
   "cell_type": "code",
   "execution_count": 75,
   "id": "c49b72e0-8af1-4850-83fd-b64b7b74ac02",
   "metadata": {},
   "outputs": [
    {
     "data": {
      "text/html": [
       "<div>\n",
       "<style scoped>\n",
       "    .dataframe tbody tr th:only-of-type {\n",
       "        vertical-align: middle;\n",
       "    }\n",
       "\n",
       "    .dataframe tbody tr th {\n",
       "        vertical-align: top;\n",
       "    }\n",
       "\n",
       "    .dataframe thead th {\n",
       "        text-align: right;\n",
       "    }\n",
       "</style>\n",
       "<table border=\"1\" class=\"dataframe\">\n",
       "  <thead>\n",
       "    <tr style=\"text-align: right;\">\n",
       "      <th></th>\n",
       "      <th>Kategori</th>\n",
       "      <th>Ürün</th>\n",
       "      <th>Fiyat</th>\n",
       "    </tr>\n",
       "  </thead>\n",
       "  <tbody>\n",
       "    <tr>\n",
       "      <th>6</th>\n",
       "      <td>Aksesuar</td>\n",
       "      <td>Kolye</td>\n",
       "      <td>150</td>\n",
       "    </tr>\n",
       "  </tbody>\n",
       "</table>\n",
       "</div>"
      ],
      "text/plain": [
       "   Kategori   Ürün  Fiyat\n",
       "6  Aksesuar  Kolye    150"
      ]
     },
     "execution_count": 75,
     "metadata": {},
     "output_type": "execute_result"
    }
   ],
   "source": [
    "aksesuar_fiyat_100 = df[(df[\"Kategori\"] == \"Aksesuar\") & (df[\"Fiyat\"] > 100)]\n",
    "aksesuar_fiyat_100"
   ]
  },
  {
   "cell_type": "code",
   "execution_count": null,
   "id": "1c097657-4033-42c9-a889-c861982b1d92",
   "metadata": {},
   "outputs": [],
   "source": []
  },
  {
   "cell_type": "code",
   "execution_count": null,
   "id": "bd73dece-bd37-408a-84e5-4626b184fa9f",
   "metadata": {},
   "outputs": [],
   "source": []
  },
  {
   "cell_type": "code",
   "execution_count": null,
   "id": "6610529c-8dc5-40eb-b804-3c13260399a1",
   "metadata": {},
   "outputs": [],
   "source": []
  }
 ],
 "metadata": {
  "kernelspec": {
   "display_name": "Python 3 (ipykernel)",
   "language": "python",
   "name": "python3"
  },
  "language_info": {
   "codemirror_mode": {
    "name": "ipython",
    "version": 3
   },
   "file_extension": ".py",
   "mimetype": "text/x-python",
   "name": "python",
   "nbconvert_exporter": "python",
   "pygments_lexer": "ipython3",
   "version": "3.12.4"
  }
 },
 "nbformat": 4,
 "nbformat_minor": 5
}
